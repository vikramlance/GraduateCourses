{
 "cells": [
  {
   "cell_type": "markdown",
   "metadata": {},
   "source": [
    "#### CSCE 489 :: Data Science and Analytics :: Texas A&M University :: Fall 2016\n",
    "\n",
    "\n",
    "# Homework 0: Welcome to the Thunderdome\n",
    "\n",
    "### 100 points [5% of your final grade]\n",
    "### Due: Wednesday, September 7 by 11:59pm [No late submissions accepted]\n",
    "\n",
    "*Goals of this homework:* The objective of this homework is to prepare your development environment, get familiar with iPython in a Jupyter notebook, and then do some simple exercises with numpy, matplotlib, and pandas.\n",
    "\n",
    "*Submission Instructions:* To submit your homework, rename this notebook as  `lastname_firstinitial_hw#.ipynb`. For example, my homework submission would be: `caverlee_j_hw0.ipynb`. Submit this notebook via csnet. That's right, we're using csnet!! Your IPython notebook should be completely self-contained, with the results visible in the notebook. We should not have to run any code from the command line, nor should we have to run your code within the notebook (though we reserve the right to do so).\n",
    "\n",
    "*Late submission policy:* For this homework (and this one, alone), we will not accept any late submissions. We need to get this baseline homework done so we can move on!"
   ]
  },
  {
   "cell_type": "markdown",
   "metadata": {},
   "source": [
    "## iPython, Python, and our Expectations\n",
    "\n",
    "This homework, all subsequent homeworks, and your project will use iPython in a Jupyter notebook. iPython is just an interactive shell for programming in the Python language. A few years ago, the developers created a generic interactive shell called Jupyter that supports languages beyond just Python. This can be a bit confusing, and we'll add a bit to the confusion by referring to iPython and Jupter interchangeably in this course.\n",
    "\n",
    "With respect to Python, we do not expect you to have any prior experience. We do, however, expect you to have proficiency in some programming language (so you've seen loops, conditionals, functions, etc.) and a willingness to experiment and learn on your own. Python is a fun language and you should be able to pick up the necessary portions as we move along; however, this may require you to spend some extra cycles consulting online documentation, referring to a Python book, or scouring over StackOverflow. \n",
    "\n",
    "A few basic Python pointers:\n",
    "* http://introtopython.org\n",
    "* http://ricardoduarte.github.io/python-for-developers/\n",
    "* http://mbakker7.github.io/exploratory_computing_with_python/ [particularly the basic Python language ones]\n",
    "\n",
    "\n",
    "We expect your code to be well-documented with appropriate comments. We prefer meaningful variable names and function names. We also expect your code to be compact and sensible -- no super-long lines, nor dense unintelligible lines of code.\n",
    "\n",
    "In general, Python code is often run from standalone Python modules or files; for this class, we will almost exclusively only run Python from here within the iPython notebook.\n",
    "\n",
    "Now that you're ready, let's take a look at this iPython notebook. You'll notice that it is composed of cells. Some cells have text (like this one), while others contain code and comments. This cell is written in **Markdown** a simple text-to-HTML language. You can find a cheat sheet for Markdown here: https://github.com/adam-p/markdown-here/wiki/Markdown-Cheatsheet. You can toggle a cell between Markdown and code with the toggle button up there on the menu bar.\n",
    "\n",
    "The cell below contains code and can be **executed** by hitting the **Play** button on the menu bar or by hitting **shift + enter**."
   ]
  },
  {
   "cell_type": "code",
   "execution_count": null,
   "metadata": {
    "collapsed": false
   },
   "outputs": [],
   "source": [
    "# this is a comment\n",
    "# you can execute this cell by hitting shift+enter\n",
    "# the output will appear immediately below\n",
    "print 'Hello world!'"
   ]
  },
  {
   "cell_type": "markdown",
   "metadata": {},
   "source": [
    "Since iPython is just an interactive shell around Python, you can define functions. For example:"
   ]
  },
  {
   "cell_type": "code",
   "execution_count": null,
   "metadata": {
    "collapsed": false
   },
   "outputs": [],
   "source": [
    "def cubed(x):\n",
    "    \"\"\" Return the cube of a  \n",
    "        value \"\"\"\n",
    "    return x ** 3\n",
    "\n",
    "cubed(3)"
   ]
  },
  {
   "cell_type": "markdown",
   "metadata": {},
   "source": [
    "You can even access the filesystem with commands like `ls` or `pwd`:"
   ]
  },
  {
   "cell_type": "code",
   "execution_count": null,
   "metadata": {
    "collapsed": false
   },
   "outputs": [],
   "source": [
    "pwd"
   ]
  },
  {
   "cell_type": "markdown",
   "metadata": {},
   "source": [
    "## Getting Started with Numpy, pandas, and matplotlib\n",
    "\n",
    "In this part, we're going to get familiar with three important libraries -- Numpy, pandas, and matplotlib. You will  use these libraries over and over this semester. This portion is mainly just a super quick intro to each; we expect you to go much deeper as we move forward on future homeworks.\n",
    "\n",
    "### Into to Numpy\n",
    "Since Python is an interpreted language, it might not seem like the best choice for data analysis. Luckily, almost all of our data workflow stack is built on top of Numpy, a Python library that adds support for large, multi-dimensional arrays and matrices, along with a large library of high-level mathematical functions to operate on these arrays."
   ]
  },
  {
   "cell_type": "code",
   "execution_count": null,
   "metadata": {
    "collapsed": false
   },
   "outputs": [],
   "source": [
    "import numpy as np\n",
    "\n",
    "print \"Make a 4 row x 2 column matrix of random numbers\"\n",
    "x = np.random.random((4, 2))\n",
    "print x\n",
    "print\n",
    "\n",
    "print \"Add 10 to every element\"\n",
    "x = x + 10\n",
    "print x\n",
    "print\n",
    "\n",
    "print \"Get the element at row 3, column 1\"\n",
    "print x[3, 1]\n",
    "print\n",
    "\n",
    "print \"Get the first row\"\n",
    "print x[0, :]\n",
    "print"
   ]
  },
  {
   "cell_type": "markdown",
   "metadata": {},
   "source": [
    "Now, it's your turn. Find the maximum, minimum, and mean of the array. This does not require writing a loop. In the code cell below, type x.m<TAB>, to find built-in operations that may help you out."
   ]
  },
  {
   "cell_type": "code",
   "execution_count": 8,
   "metadata": {
    "collapsed": false
   },
   "outputs": [
    {
     "name": "stdout",
     "output_type": "stream",
     "text": [
      "[[ 0.55930937  0.70834666  0.6100324   0.79652422  0.10253903  0.08400657\n",
      "   0.67131288  0.31218056  0.96862436  0.53106327]]\n",
      "0.968624357875 0.0840065652759 0.534393932685\n"
     ]
    }
   ],
   "source": [
    "# your code here\n",
    "import numpy as np\n",
    "y=np.random.random((1,10))\n",
    "print y\n",
    "print np.max(y),np.min(y),np.mean(y)"
   ]
  },
  {
   "cell_type": "markdown",
   "metadata": {},
   "source": [
    "That wasy easy! Now, let's see if you can generate 500 numbers from a uniform distribution between 0 and 10,000, inclusive. That is each random number could be 0, 1, 2, ..., 10,000 with equal chance. What is the maximum, minimum, and mean of these 500 random numbers? *Hint: take a look at np.random* "
   ]
  },
  {
   "cell_type": "code",
   "execution_count": 13,
   "metadata": {
    "collapsed": false
   },
   "outputs": [
    {
     "name": "stdout",
     "output_type": "stream",
     "text": [
      "9991 12 5139.812\n"
     ]
    }
   ],
   "source": [
    "# your code here\n",
    "import numpy as np\n",
    "y=np.random.randint(1,10000, size=500)\n",
    "print np.max(y),np.min(y),np.mean(y)"
   ]
  },
  {
   "cell_type": "markdown",
   "metadata": {},
   "source": [
    "### Intro to matplotlib\n",
    "The most widespread Python plotting library is matplotlib. With it, you can create graphs, charts, basic maps, and other data visualizations. Later in the semester, we'll use `seaborn`, a library built on top of matplotlib that provides even more beautiful charts.\n",
    "\n",
    "Below, we provide some simple x and y coordinates that are then plotted. You should update the plot to include:\n",
    "* a label for the x-axis (call it 'X-axis')\n",
    "* a label for the y-axis (call it 'Y-axis')\n",
    "* a label for the x, y1 curve (call it 'Alice')\n",
    "* a label for the x, y2 curve (call it 'Bob')\n",
    "* a legend in the lower right corner"
   ]
  },
  {
   "cell_type": "code",
   "execution_count": 6,
   "metadata": {
    "collapsed": false
   },
   "outputs": [
    {
     "data": {
      "text/plain": [
       "<matplotlib.legend.Legend at 0x81e6358>"
      ]
     },
     "execution_count": 6,
     "metadata": {},
     "output_type": "execute_result"
    },
    {
     "data": {
      "image/png": "[encoded data removed]",
      "text/plain": [
       "<matplotlib.figure.Figure at 0x8a0e240>"
      ]
     },
     "metadata": {},
     "output_type": "display_data"
    }
   ],
   "source": [
    "# this line prepares IPython for working with matplotlib\n",
    "%matplotlib inline  \n",
    "\n",
    "import matplotlib.pyplot as plt  \n",
    "\n",
    "x = [0, 1, 2, 3, 4]  \n",
    "y1 = [10, 12, 10, 10, 12]\n",
    "y2 = [8, 9, 9, 11, 12]\n",
    "plt.plot(x, y1, label=\"Alice\")\n",
    "plt.plot(x, y2, label=\"Bob\") \n",
    "plt.xlabel('X-axis', fontsize=18)\n",
    "plt.ylabel('Y-axis', fontsize=16)\n",
    "plt.legend(loc=4)\n",
    "# your code here (plus you may need to modify the previous two lines)"
   ]
  },
  {
   "cell_type": "markdown",
   "metadata": {},
   "source": [
    "### Intro to Pandas\n",
    "pandas is the standard Python package for dealing with tabular (or relational) data. You can think of it as a programmatic way of dealing with Excel-like data that has rows and columns.\n",
    "\n",
    "Let's begin by loading some historical birth data that's stored in a comma-separated value (csv) format:"
   ]
  },
  {
   "cell_type": "code",
   "execution_count": 8,
   "metadata": {
    "collapsed": false
   },
   "outputs": [
    {
     "ename": "AttributeError",
     "evalue": "'module' object has no attribute 'read'",
     "output_type": "error",
     "traceback": [
      "\u001b[1;31m---------------------------------------------------------------------------\u001b[0m",
      "\u001b[1;31mAttributeError\u001b[0m                            Traceback (most recent call last)",
      "\u001b[1;32m<ipython-input-8-91c97dbae5f9>\u001b[0m in \u001b[0;36m<module>\u001b[1;34m()\u001b[0m\n\u001b[0;32m      1\u001b[0m \u001b[1;32mimport\u001b[0m \u001b[0mpandas\u001b[0m \u001b[1;32mas\u001b[0m \u001b[0mpd\u001b[0m\u001b[1;33m\u001b[0m\u001b[0m\n\u001b[0;32m      2\u001b[0m \u001b[0mdata_path\u001b[0m\u001b[1;33m=\u001b[0m\u001b[1;34m'./births.csv'\u001b[0m\u001b[1;33m\u001b[0m\u001b[0m\n\u001b[1;32m----> 3\u001b[1;33m \u001b[0mbirths\u001b[0m\u001b[1;33m=\u001b[0m\u001b[0mpd\u001b[0m\u001b[1;33m.\u001b[0m\u001b[0mread\u001b[0m\u001b[1;33m.\u001b[0m\u001b[0mcsv\u001b[0m\u001b[1;33m(\u001b[0m\u001b[0mdata_path\u001b[0m\u001b[1;33m)\u001b[0m\u001b[1;33m\u001b[0m\u001b[0m\n\u001b[0m\u001b[0;32m      4\u001b[0m \u001b[0mbirths\u001b[0m\u001b[1;33m.\u001b[0m\u001b[0mhead\u001b[0m\u001b[1;33m(\u001b[0m\u001b[1;33m)\u001b[0m\u001b[1;33m\u001b[0m\u001b[0m\n\u001b[0;32m      5\u001b[0m \u001b[1;31m# births = your code here -- should read in the csv file births.csv\u001b[0m\u001b[1;33m\u001b[0m\u001b[1;33m\u001b[0m\u001b[0m\n",
      "\u001b[1;31mAttributeError\u001b[0m: 'module' object has no attribute 'read'"
     ]
    }
   ],
   "source": [
    "import pandas as pd\n",
    "data_path='./births.csv'\n",
    "births=pd.read.csv(data_path)\n",
    "births.head()\n",
    "# births = your code here -- should read in the csv file births.csv \n",
    "# update the line above, then uncomment the line below\n",
    "# births.head()"
   ]
  },
  {
   "cell_type": "markdown",
   "metadata": {},
   "source": [
    "You see that we have data for the year, month, day, and gender. We can group data by different attributes to 'roll-up' the data:"
   ]
  },
  {
   "cell_type": "code",
   "execution_count": null,
   "metadata": {
    "collapsed": false
   },
   "outputs": [],
   "source": [
    "grouped = data.groupby(['year', 'month', 'gender']).sum()\n",
    "grouped.head()"
   ]
  },
  {
   "cell_type": "markdown",
   "metadata": {},
   "source": [
    "Can you find all of the births on April 1 for each year?"
   ]
  },
  {
   "cell_type": "code",
   "execution_count": null,
   "metadata": {
    "collapsed": false
   },
   "outputs": [],
   "source": [
    "# your code here"
   ]
  },
  {
   "cell_type": "markdown",
   "metadata": {},
   "source": [
    "We can even read csv files from the web. If you are missing any of the packages below, you can install them first, then re-start this notebook."
   ]
  },
  {
   "cell_type": "code",
   "execution_count": null,
   "metadata": {
    "collapsed": false
   },
   "outputs": [],
   "source": [
    "# reading from a csv file from the web\n",
    "import pandas as pd\n",
    "import io\n",
    "import requests\n",
    "\n",
    "url = 'https://raw.githubusercontent.com/fivethirtyeight/data/master/bob-ross/elements-by-episode.csv'\n",
    "r = requests.get(url)\n",
    "bob_ross_data = pd.read_csv(io.StringIO(r.content.decode('utf-8')))\n",
    "bob_ross_data.head()"
   ]
  },
  {
   "cell_type": "markdown",
   "metadata": {},
   "source": [
    "In this case, we have the Bob Ross data we talked about in class on the first day. \n",
    "\n",
    "How many Bob Ross paintings contain a tree?"
   ]
  },
  {
   "cell_type": "code",
   "execution_count": null,
   "metadata": {
    "collapsed": true
   },
   "outputs": [],
   "source": [
    "# your code here"
   ]
  }
 ],
 "metadata": {
  "anaconda-cloud": {},
  "kernelspec": {
   "display_name": "Python [Root]",
   "language": "python",
   "name": "Python [Root]"
  },
  "language_info": {
   "codemirror_mode": {
    "name": "ipython",
    "version": 2
   },
   "file_extension": ".py",
   "mimetype": "text/x-python",
   "name": "python",
   "nbconvert_exporter": "python",
   "pygments_lexer": "ipython2",
   "version": "2.7.12"
  }
 },
 "nbformat": 4,
 "nbformat_minor": 0
}
